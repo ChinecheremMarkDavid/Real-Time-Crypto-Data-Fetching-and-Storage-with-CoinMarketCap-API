{
 "cells": [
  {
   "cell_type": "markdown",
   "metadata": {},
   "source": [
    "# CoinMarketCap API Data Pull Project"
   ]
  },
  {
   "cell_type": "code",
   "execution_count": 3,
   "metadata": {},
   "outputs": [
    {
     "name": "stdout",
     "output_type": "stream",
     "text": [
      "h\n"
     ]
    }
   ],
   "source": [
    "# Import necessary modules from the requests library\n",
    "from requests import Request, Session\n",
    "from requests.exceptions import ConnectionError, Timeout, TooManyRedirects\n",
    "import json\n",
    "\n",
    "# Set the API endpoint URL for the CoinMarketCap API (latest cryptocurrency listings)\n",
    "url = 'https://pro-api.coinmarketcap.com/v1/cryptocurrency/listings/latest'\n",
    "\n",
    "# Define the parameters for the API request\n",
    "parameters = {\n",
    "    'start': '1',    # Starting point (rank) for the listings\n",
    "    'limit': '5000', # Limit the number of listings to 5000\n",
    "    'convert': 'USD' # Convert the prices to USD\n",
    "}\n",
    "\n",
    "# Define the headers, including the API key\n",
    "headers = {\n",
    "    'Accepts': 'application/json',  # Ensure the API returns JSON format\n",
    "    'X-CMC_PRO_API_KEY': '6699d4f7-5975-4375-8b35-525b589736cd',  # The API key\n",
    "}\n",
    "\n",
    "# Create a session object to persist settings across requests\n",
    "session = Session()\n",
    "\n",
    "# Update the session headers with the API key and other necessary headers\n",
    "session.headers.update(headers)\n",
    "\n",
    "try:\n",
    "    # Send a GET request to the API using the session object\n",
    "    response = session.get(url, params=parameters)\n",
    "\n",
    "    # Parse the JSON response text and store it in 'data'\n",
    "    data = json.loads(response.text)\n",
    "\n",
    "    # Print the parsed data (this might be large, so be cautious with this)\n",
    "    print(data)\n",
    "\n",
    "# Handle common request exceptions such as connection issues or timeouts\n",
    "except (ConnectionError, Timeout, TooManyRedirects) as e:\n",
    "    # Print the exception if any of the specified errors occur\n",
    "    print(e)\n"
   ]
  },
  {
   "cell_type": "code",
   "execution_count": null,
   "metadata": {},
   "outputs": [],
   "source": [
    "type(data)\n"
   ]
  },
  {
   "cell_type": "code",
   "execution_count": null,
   "metadata": {},
   "outputs": [],
   "source": [
    "# Import the pandas library\n",
    "import pandas as pd\n",
    "\n",
    "# Set pandas options to display all columns and rows when printing DataFrames\n",
    "pd.set_option('display.max_columns', None)\n",
    "pd.set_option('display.max_rows', None)\n",
    "\n"
   ]
  },
  {
   "cell_type": "code",
   "execution_count": null,
   "metadata": {},
   "outputs": [],
   "source": [
    "# normalising the data to make it look readable in a data frame and adding a time stamp to see the exact time data was being pulled\n",
    "\n",
    "df = pd.json_normalize(data['data'])\n",
    "\n",
    "df['time_stamp'] = pd.to_datetime('now')\n",
    "df"
   ]
  },
  {
   "cell_type": "markdown",
   "metadata": {},
   "source": [
    "# API Call and Data Collection"
   ]
  },
  {
   "cell_type": "code",
   "execution_count": null,
   "metadata": {},
   "outputs": [],
   "source": [
    "import os\n",
    "from time import sleep\n",
    "\n",
    "# Function to fetch and normalize the data from CoinMarketCap API\n",
    "def api_auto():\n",
    "    url = 'https://pro-api.coinmarketcap.com/v1/cryptocurrency/listings/latest'\n",
    "\n",
    "    # Define the parameters for the API request\n",
    "    parameters = {\n",
    "        'start': '1',    # Starting point (rank) for the listings\n",
    "        'limit': '5000', # Limit the number of listings to 5000\n",
    "        'convert': 'USD' # Convert the prices to USD\n",
    "    }\n",
    "\n",
    "    # Define the headers, including the API key\n",
    "    headers = {\n",
    "        'Accepts': 'application/json',  # Ensure the API returns JSON format\n",
    "        'X-CMC_PRO_API_KEY': '6699d4f7-5975-4375-8b35-525b589736cd',  # Your API key\n",
    "    }\n",
    "\n",
    "    # Create a session object to persist settings across requests\n",
    "    session = Session()\n",
    "\n",
    "    # Update the session headers with the API key and other necessary headers\n",
    "    session.headers.update(headers)\n",
    "\n",
    "    try:\n",
    "        # Send a GET request to the API using the session object\n",
    "        response = session.get(url, params=parameters)\n",
    "\n",
    "        # Parse the JSON response text and store it in 'data'\n",
    "        data = json.loads(response.text)\n",
    "\n",
    "        # Normalize the data and return it as a DataFrame\n",
    "        df2 = pd.json_normalize(data['data'])\n",
    "\n",
    "        # Add a timestamp column to the DataFrame\n",
    "        df2['time_stamp'] = pd.to_datetime('now')\n",
    "\n",
    "        # Return the DataFrame for later use\n",
    "        return df2\n",
    "\n",
    "    # Handle common request exceptions such as connection issues or timeouts\n",
    "    except (ConnectionError, Timeout, TooManyRedirects) as e:\n",
    "        print(e)\n",
    "        return None  # Return None if there's an error\n",
    "\n",
    "# To call the API without printing the data:\n",
    "df = pd.DataFrame()  # Initialize an empty DataFrame to store results\n",
    "\n",
    "# Example loop that runs 333 times, fetches the data, and appends it to df\n",
    "for i in range(333):\n",
    "    df2 = api_auto()  # Fetch data from the API\n",
    "\n",
    "    if df2 is not None:  # Only append if data was successfully fetched\n",
    "        df = pd.concat([df, df2], ignore_index=True)  # Use pd.concat to append DataFrames\n",
    "        print('API ran successfully')  # Print this message after each successful run\n",
    "\n",
    "    sleep(60)  # Wait for 60 seconds between API calls\n",
    "\n",
    "# Remove duplicates in the final DataFrame (optional, based on unique columns)\n",
    "df.drop_duplicates(subset=['id'], inplace=True)  # Assuming 'id' is unique for each record\n"
   ]
  },
  {
   "cell_type": "markdown",
   "metadata": {},
   "source": [
    "# Write data to CSV"
   ]
  },
  {
   "cell_type": "code",
   "execution_count": null,
   "metadata": {},
   "outputs": [],
   "source": [
    "# Define the file path for the CSV\n",
    "csv_file = r'C:\\Users\\HP\\Downloads\\archive (4)\\APIPull.csv'\n",
    "\n",
    "# Check if the file exists\n",
    "if not os.path.isfile(csv_file):\n",
    "    # If the file doesn't exist, write the DataFrame with column headers\n",
    "    df.to_csv(csv_file, header=True, index=False)\n",
    "    print(\"Data written to new CSV file.\")\n",
    "else:\n",
    "    # If the file exists, append the data without writing the headers again\n",
    "    df.to_csv(csv_file, mode='a', header=False, index=False)\n",
    "    print(\"Data appended to existing CSV file.\")\n"
   ]
  },
  {
   "cell_type": "code",
   "execution_count": null,
   "metadata": {},
   "outputs": [],
   "source": [
    "pd.set_option('display.float_format', lambda x: '%.5f' % x)"
   ]
  },
  {
   "cell_type": "code",
   "execution_count": null,
   "metadata": {},
   "outputs": [],
   "source": [
    "df"
   ]
  },
  {
   "cell_type": "markdown",
   "metadata": {},
   "source": []
  }
 ],
 "metadata": {
  "kernelspec": {
   "display_name": "AdvancedPython",
   "language": "python",
   "name": "python3"
  },
  "language_info": {
   "codemirror_mode": {
    "name": "ipython",
    "version": 3
   },
   "file_extension": ".py",
   "mimetype": "text/x-python",
   "name": "python",
   "nbconvert_exporter": "python",
   "pygments_lexer": "ipython3",
   "version": "3.12.4"
  }
 },
 "nbformat": 4,
 "nbformat_minor": 2
}
