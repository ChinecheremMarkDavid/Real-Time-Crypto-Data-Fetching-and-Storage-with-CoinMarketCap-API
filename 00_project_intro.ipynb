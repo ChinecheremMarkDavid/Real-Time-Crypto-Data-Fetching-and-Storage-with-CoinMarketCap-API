{
 "cells": [
  {
   "cell_type": "markdown",
   "metadata": {},
   "source": [
    "## What's the goal here\n",
    "\n",
    "##### 1. Use python and CoinMarketCap API to pull, normalise and store the data in a csv format\n",
    "##### 2. With the data in a csv format, store it in a database so we can use sql to clean and perform exploratory data analysis on the dataset\n",
    "##### 3. With the analysis done on the dataset, i will use Power BI to build dashboards and KPI's to showcase my findings"
   ]
  },
  {
   "cell_type": "markdown",
   "metadata": {},
   "source": [
    "### Final Deliverables:\n",
    "- Create a Jupyter Notebooks (showcasing some of my skills in Python).\n",
    "- Share an sql file on the various questions and queries i did and how i arrived at my answer\n",
    "- Screenshot of the PowerBi dashboard that i will be creating along with the screenshot for interactivity purposes\n",
    "- Create a summary page (via (README.md)) capturing my findings.\n",
    "- Share this project via GitHub & LinkedIn."
   ]
  },
  {
   "cell_type": "markdown",
   "metadata": {},
   "source": [
    "### Questions to Answer and why they are relevant\n",
    "1. Which cryptocurrency has the highest market capitalization?\n",
    "- This could help investors or businesses understand which currencies are leading the market in terms of value.\n",
    "\n",
    "2. How does the supply of each cryptocurrency (circulating supply vs. max supply) compare, and which currencies are nearing their supply limits?\n",
    "- Understanding the supply dynamics helps businesses gauge scarcity and potential future value changes."
   ]
  },
  {
   "cell_type": "markdown",
   "metadata": {},
   "source": []
  }
 ],
 "metadata": {
  "language_info": {
   "name": "python"
  }
 },
 "nbformat": 4,
 "nbformat_minor": 2
}
