{
 "cells": [
  {
   "cell_type": "markdown",
   "metadata": {},
   "source": [
    "## What's the goal here\n",
    "\n",
    "##### 1. Use python and CoinMarketCap API to pull, normalise and store the data in a csv format\n",
    "##### 2. With the data in a csv format, store it in a database so we can use sql to clean and perform exploratory data analysis on the dataset"
   ]
  },
  {
   "cell_type": "markdown",
   "metadata": {},
   "source": []
  }
 ],
 "metadata": {
  "language_info": {
   "name": "python"
  }
 },
 "nbformat": 4,
 "nbformat_minor": 2
}
